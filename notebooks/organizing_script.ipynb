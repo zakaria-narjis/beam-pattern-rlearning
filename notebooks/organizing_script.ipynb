{
 "cells": [
  {
   "cell_type": "code",
   "execution_count": 1,
   "metadata": {},
   "outputs": [],
   "source": [
    "import os\n",
    "import shutil\n",
    "import yaml"
   ]
  },
  {
   "cell_type": "code",
   "execution_count": 2,
   "metadata": {},
   "outputs": [],
   "source": [
    "os.chdir(\"..\")"
   ]
  },
  {
   "cell_type": "code",
   "execution_count": 4,
   "metadata": {},
   "outputs": [
    {
     "name": "stdout",
     "output_type": "stream",
     "text": [
      "Organized DDPG_LOS_seed_0__2024-08-09_23-19-06 into results\\ddpg\\LOS\\beams_4\\seed_0\n",
      "Organized ddpg_LOS_seed_0__2024-12-04_12-59-07 into results\\ddpg\\LOS\\beams_8\\seed_0\n",
      "Organized DDPG_LOS_seed_1__2024-08-10_12-22-51 into results\\ddpg\\LOS\\beams_4\\seed_1\n",
      "Organized DDPG_LOS_seed_42__2024-08-10_12-20-41 into results\\ddpg\\LOS\\beams_4\\seed_42\n",
      "Organized ddpg_NLOS_seed_0__2024-10-21_11-01-24 into results\\ddpg\\NLOS\\beams_4\\seed_0\n",
      "Organized ddpg_NLOS_seed_0__2024-10-23_12-51-53 into results\\ddpg\\NLOS\\beams_8\\seed_0\n",
      "Organized sac_LOS_seed_0__2024-12-05_15-52-24 into results\\sac\\LOS\\beams_8\\seed_0\n",
      "Organized sac_LOS__2024-08-04_14-20-29 into results\\sac\\LOS\\beams_4\\seed_0\n",
      "Organized sac_LOS__2024-08-04_14-40-10 into results\\sac\\LOS\\beams_4\\seed_0\n",
      "Organized sac_LOS__2024-08-04_22-25-52 into results\\sac\\LOS\\beams_4\\seed_0\n",
      "Organized sac_LOS__2024-08-04_23-59-47 into results\\sac\\LOS\\beams_4\\seed_42\n",
      "Organized sac_LOS__2024-08-07_01-25-30 into results\\td3\\LOS\\beams_4\\seed_42\n",
      "Organized sac_LOS__2024-08-07_10-08-08 into results\\sac\\LOS\\beams_4\\seed_42\n",
      "Organized sac_NLOS_seed_0__2024-10-20_12-44-43 into results\\sac\\NLOS\\beams_4\\seed_0\n",
      "Organized sac_NLOS_seed_0__2024-10-22_10-57-03 into results\\sac\\NLOS\\beams_8\\seed_0\n",
      "Organized sac_NLOS_seed_1__2024-10-17_13-46-50 into results\\sac\\NLOS\\beams_4\\seed_1\n",
      "Organized sac_NLOS_seed_1__2024-10-18_12-17-29 into results\\sac\\NLOS\\beams_4\\seed_1\n",
      "Organized sac_NLOS__2024-07-30_20-22-39 into results\\sac\\NLOS\\beams_4\\seed_0\n",
      "Organized sac_NLOS__2024-07-31_14-29-32 into results\\sac\\NLOS\\beams_8\\seed_0\n",
      "Organized sac__2024-07-28_01-37-42 into results\\sac\\LOS\\beams_4\\seed_0\n",
      "Organized sac__2024-07-28_11-34-51 into results\\sac\\LOS\\beams_4\\seed_1\n",
      "Organized sac__2024-07-28_20-49-12 into results\\sac\\LOS\\beams_4\\seed_42\n",
      "Organized TD3_LOS_seed0__2024-08-09_14-26-05 into results\\td3\\LOS\\beams_4\\seed_0\n",
      "Organized td3_LOS_seed_0__2024-12-07_00-18-13 into results\\td3\\LOS\\beams_8\\seed_0\n",
      "Organized TD3_LOS_seed_42__2024-08-09_21-11-51 into results\\td3\\LOS\\beams_4\\seed_42\n",
      "Organized TD3_LOS__2024-08-09_00-54-12 into results\\td3\\LOS\\beams_4\\seed_1\n",
      "Organized td3_NLOS_seed_0__2024-10-21_15-28-03 into results\\td3\\NLOS\\beams_4\\seed_0\n",
      "Organized td3_NLOS_seed_0__2024-12-08_18-03-12 into results\\td3\\NLOS\\beams_8\\seed_0\n"
     ]
    }
   ],
   "source": [
    "\n",
    "\n",
    "def organize_experiments(src_folder, dest_folder):\n",
    "    # Define the source and destination folders\n",
    "    experiments_path = os.path.join(src_folder, \"runs\")\n",
    "    \n",
    "    # Loop over each experiment folder\n",
    "    for experiment in os.listdir(experiments_path):\n",
    "        experiment_path = os.path.join(experiments_path, experiment)\n",
    "        \n",
    "        # Skip non-folder files\n",
    "        if not os.path.isdir(experiment_path):\n",
    "            continue\n",
    "        \n",
    "        # Locate the configuration files\n",
    "        config_folder = os.path.join(experiment_path, \"configs\")\n",
    "        sac_config_path = os.path.join(config_folder, \"sac_config.yaml\")\n",
    "        env_config_path = os.path.join(config_folder, \"env_config.yaml\")\n",
    "        \n",
    "        # Initialize parameters\n",
    "        algo = None\n",
    "        seed = None\n",
    "        num_NNs = None\n",
    "        los_nlos = \"NLOS\"\n",
    "        \n",
    "        # Read parameters from sac_config.yaml\n",
    "        if os.path.exists(sac_config_path):\n",
    "            with open(sac_config_path, 'r') as f:\n",
    "                sac_config = yaml.safe_load(f)\n",
    "                algo = sac_config.get(\"algo\")\n",
    "                seed = sac_config.get(\"seed\")\n",
    "        \n",
    "        # Use experiment name to infer algo if not found in config\n",
    "        if not algo:\n",
    "            algo = experiment.split(\"_\")[0]\n",
    "        \n",
    "        # Read parameters from env_config.yaml\n",
    "        if os.path.exists(env_config_path):\n",
    "            with open(env_config_path, 'r') as f:\n",
    "                env_config = yaml.safe_load(f)\n",
    "                num_NNs = env_config.get(\"num_NNs\")\n",
    "                path = env_config.get(\"path\")\n",
    "                if path == \"src/Codebook_Learning_RL/grid1101-1400.mat\":\n",
    "                    los_nlos = \"LOS\"\n",
    "        \n",
    "        # Validate critical parameters\n",
    "        # Validate critical parameters\n",
    "        if algo is None or seed is None or num_NNs not in [4, 8]:\n",
    "            print(f\"Skipping experiment {experiment} due to missing critical parameters. {algo}, {seed}, {num_NNs}\")\n",
    "            continue\n",
    "\n",
    "        \n",
    "        # Build destination path\n",
    "        algo_folder = os.path.join(dest_folder, algo)\n",
    "        los_folder = os.path.join(algo_folder, los_nlos)\n",
    "        beams_folder = os.path.join(los_folder, f\"beams_{num_NNs}\")\n",
    "        seed_folder = os.path.join(beams_folder, f\"seed_{seed}\")\n",
    "        \n",
    "        # Ensure destination directories exist\n",
    "        os.makedirs(seed_folder, exist_ok=True)\n",
    "        \n",
    "        # Move or copy the experiment folder\n",
    "        dest_experiment_path = os.path.join(seed_folder, experiment)\n",
    "        shutil.copytree(experiment_path, dest_experiment_path)\n",
    "        print(f\"Organized {experiment} into {seed_folder}\")\n",
    "\n",
    "# Run the script\n",
    "source_folder = \"experiments\"\n",
    "destination_folder = \"results\"\n",
    "organize_experiments(source_folder, destination_folder)\n"
   ]
  }
 ],
 "metadata": {
  "kernelspec": {
   "display_name": "venv",
   "language": "python",
   "name": "python3"
  },
  "language_info": {
   "codemirror_mode": {
    "name": "ipython",
    "version": 3
   },
   "file_extension": ".py",
   "mimetype": "text/x-python",
   "name": "python",
   "nbconvert_exporter": "python",
   "pygments_lexer": "ipython3",
   "version": "3.11.5"
  }
 },
 "nbformat": 4,
 "nbformat_minor": 2
}
