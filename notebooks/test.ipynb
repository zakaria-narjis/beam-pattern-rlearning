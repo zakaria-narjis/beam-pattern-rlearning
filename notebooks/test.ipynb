{
 "cells": [
  {
   "cell_type": "code",
   "execution_count": null,
   "metadata": {},
   "outputs": [],
   "source": [
    "import numpy as np\n",
    "import matplotlib.pyplot as plt"
   ]
  },
  {
   "cell_type": "code",
   "execution_count": null,
   "metadata": {},
   "outputs": [],
   "source": [
    "import numpy as np\n",
    "import matplotlib.pyplot as plt\n",
    "import os\n",
    "\n",
    "# Directory containing the numpy files\n",
    "directory = r'../experiments/runs/sac__2024-07-28_20-49-12/beamforming_gain_records'\n",
    "\n",
    "# List to store data from all files\n",
    "all_data = []\n",
    "\n",
    "# Load data from all numpy files\n",
    "for i in range(4):\n",
    "    filename = f'beam_{i}_gain_records.npy'\n",
    "    filepath = os.path.join(directory, filename)\n",
    "    data = np.load(filepath)\n",
    "    all_data.append(data)\n",
    "\n",
    "# Plotting\n",
    "plt.figure(figsize=(12, 8))\n",
    "\n",
    "for i, data in enumerate(all_data):\n",
    "    # Plot all elements\n",
    "    line, = plt.plot(data[:-1], label=f'Beam {i}')\n",
    "    \n",
    "    # Get the color of the current line\n",
    "    color = line.get_color()\n",
    "    \n",
    "    # Plot the last element as a horizontal dashed line\n",
    "    plt.axhline(y=data[-1], color=color, linestyle='--', \n",
    "                label=f'Beam {i} (last element)')\n",
    "\n",
    "plt.xlabel('Index')\n",
    "plt.ylabel('Gain')\n",
    "plt.title('Beamforming Gain Records')\n",
    "plt.legend()\n",
    "plt.grid(True)\n",
    "\n",
    "plt.tight_layout()\n",
    "plt.show()"
   ]
  },
  {
   "cell_type": "code",
   "execution_count": null,
   "metadata": {},
   "outputs": [],
   "source": [
    "import numpy as np\n",
    "import os\n",
    "\n",
    "# Directory containing the numpy files\n",
    "directory = r'../experiments/runs/sac__2024-07-28_20-49-12/beamforming_gain_records'\n",
    "\n",
    "# List to store data from all files\n",
    "all_data = []\n",
    "\n",
    "# Load data from all numpy files\n",
    "for i in range(4):\n",
    "    filename = f'beam_{i}_gain_records.npy'\n",
    "    filepath = os.path.join(directory, filename)\n",
    "    data = np.load(filepath)\n",
    "    all_data.append(data)\n",
    "\n",
    "# List to store percentage differences\n",
    "percentages = []\n",
    "\n",
    "# Compute percentage difference for each array\n",
    "for i, data in enumerate(all_data):\n",
    "    max_value = np.max(data[:-1])\n",
    "    last_value = data[-1]\n",
    "    # Compute the difference\n",
    "\n",
    "    \n",
    "    # Compute the percentage difference\n",
    "    percentage_diff = (max_value / last_value) * 100\n",
    "    \n",
    "    percentages.append(percentage_diff)\n",
    "    \n",
    "    print(f\"Beam {i}:\")\n",
    "    print(f\"  Max value: {max_value}\")\n",
    "    print(f\"  Last value: {last_value}\")\n",
    "\n",
    "    print(f\"  Percentage difference: {percentage_diff:.2f}%\")\n",
    "    \n",
    "\n",
    "# Compute the mean of the percentages\n",
    "mean_percentage = round(np.mean(percentages))\n",
    "\n",
    "print(f\"Mean percentage difference across all beams: {mean_percentage:.2f}%\")"
   ]
  },
  {
   "cell_type": "code",
   "execution_count": 2,
   "metadata": {},
   "outputs": [],
   "source": [
    "import os \n",
    "os.chdir('../src/Codebook_Learning_RL')"
   ]
  },
  {
   "cell_type": "code",
   "execution_count": 66,
   "metadata": {},
   "outputs": [],
   "source": [
    "from DataPrep import dataPrep\n",
    "import numpy as np\n",
    "options = {\n",
    "        'gpu_idx': 0,\n",
    "        'num_ant': 32,\n",
    "        'num_bits': 4,\n",
    "        'num_NNs': 4,  # codebook size\n",
    "        'ch_sample_ratio': 0.5,\n",
    "        'num_loop': 400,  # outer loop\n",
    "        'target_update': 3,\n",
    "        'path': './grid1101-1400.mat',\n",
    "        'clustering_mode': 'random',\n",
    "    }\n",
    "\n",
    "ch = dataPrep('grid201-300.mat')\n",
    "# ch = np.concatenate((ch[:, :options['num_ant']],\n",
    "#                      ch[:, int(ch.shape[1] / 2):int(ch.shape[1] / 2) + options['num_ant']]), axis=1)"
   ]
  },
  {
   "cell_type": "code",
   "execution_count": 67,
   "metadata": {},
   "outputs": [
    {
     "data": {
      "text/plain": [
       "32"
      ]
     },
     "execution_count": 67,
     "metadata": {},
     "output_type": "execute_result"
    }
   ],
   "source": [
    "int(ch.shape[1] / 2)"
   ]
  },
  {
   "cell_type": "code",
   "execution_count": 63,
   "metadata": {},
   "outputs": [
    {
     "data": {
      "text/plain": [
       "array([[-1.01610472e-04,  2.59507378e-05,  7.89261103e-05, ...,\n",
       "        -2.38747147e-04,  6.56595148e-05,  1.52642548e-04],\n",
       "       [ 4.87873258e-05, -1.78974369e-06, -9.02015163e-05, ...,\n",
       "         1.78902599e-04, -1.47984829e-04, -1.10644251e-05],\n",
       "       [-4.83483454e-05,  3.68424080e-05,  6.32528099e-05, ...,\n",
       "        -1.96220644e-05,  1.04820334e-04, -7.51539628e-05],\n",
       "       ...,\n",
       "       [-5.66932649e-05,  7.70241240e-06,  5.58227366e-05, ...,\n",
       "        -1.27892126e-04, -8.99914266e-06,  1.83723183e-04],\n",
       "       [ 6.59787256e-05, -7.35505018e-05,  1.30613971e-05, ...,\n",
       "         1.99962145e-04, -7.77191963e-05, -1.75521054e-04],\n",
       "       [-6.44961801e-06,  8.17102264e-05, -8.88937648e-05, ...,\n",
       "        -2.14211075e-04,  1.72753964e-04,  1.00513978e-04]])"
      ]
     },
     "execution_count": 63,
     "metadata": {},
     "output_type": "execute_result"
    }
   ],
   "source": [
    "ch[:,32:]"
   ]
  },
  {
   "cell_type": "code",
   "execution_count": 60,
   "metadata": {},
   "outputs": [
    {
     "data": {
      "text/plain": [
       "array([[-1.01610472e-04,  2.59507378e-05,  7.89261103e-05, ...,\n",
       "        -2.38747147e-04,  6.56595148e-05,  1.52642548e-04],\n",
       "       [ 4.87873258e-05, -1.78974369e-06, -9.02015163e-05, ...,\n",
       "         1.78902599e-04, -1.47984829e-04, -1.10644251e-05],\n",
       "       [-4.83483454e-05,  3.68424080e-05,  6.32528099e-05, ...,\n",
       "        -1.96220644e-05,  1.04820334e-04, -7.51539628e-05],\n",
       "       ...,\n",
       "       [-5.66932649e-05,  7.70241240e-06,  5.58227366e-05, ...,\n",
       "        -1.27892126e-04, -8.99914266e-06,  1.83723183e-04],\n",
       "       [ 6.59787256e-05, -7.35505018e-05,  1.30613971e-05, ...,\n",
       "         1.99962145e-04, -7.77191963e-05, -1.75521054e-04],\n",
       "       [-6.44961801e-06,  8.17102264e-05, -8.88937648e-05, ...,\n",
       "        -2.14211075e-04,  1.72753964e-04,  1.00513978e-04]])"
      ]
     },
     "execution_count": 60,
     "metadata": {},
     "output_type": "execute_result"
    }
   ],
   "source": [
    "ch[:, int(ch.shape[1] / 2):int(ch.shape[1] / 2) + options['num_ant']]"
   ]
  },
  {
   "cell_type": "code",
   "execution_count": 56,
   "metadata": {},
   "outputs": [
    {
     "data": {
      "text/plain": [
       "32"
      ]
     },
     "execution_count": 56,
     "metadata": {},
     "output_type": "execute_result"
    }
   ],
   "source": [
    "int(ch.shape[1] / 2)"
   ]
  },
  {
   "cell_type": "code",
   "execution_count": 49,
   "metadata": {},
   "outputs": [
    {
     "data": {
      "text/plain": [
       "(20100, 32)"
      ]
     },
     "execution_count": 49,
     "metadata": {},
     "output_type": "execute_result"
    }
   ],
   "source": [
    "ch[:, :options['num_ant']].shape"
   ]
  },
  {
   "cell_type": "code",
   "execution_count": 33,
   "metadata": {},
   "outputs": [
    {
     "data": {
      "text/plain": [
       "array([[ 9.27075016e-05, -2.36417414e-04,  1.26670668e-04, ...,\n",
       "        -2.38747147e-04,  6.56595148e-05,  1.52642548e-04],\n",
       "       [ 5.50765144e-05,  1.42950157e-04, -1.83335374e-04, ...,\n",
       "         1.78902599e-04, -1.47984829e-04, -1.10644251e-05],\n",
       "       [-1.69127088e-04,  2.67347968e-05,  1.20804885e-04, ...,\n",
       "        -1.96220644e-05,  1.04820334e-04, -7.51539628e-05],\n",
       "       ...,\n",
       "       [ 8.96719066e-05, -1.46702354e-04,  5.52168967e-05, ...,\n",
       "        -1.27892126e-04, -8.99914266e-06,  1.83723183e-04],\n",
       "       [ 1.95835855e-05,  1.09768967e-04, -1.25143531e-04, ...,\n",
       "         1.99962145e-04, -7.77191963e-05, -1.75521054e-04],\n",
       "       [-1.06465515e-04, -1.56867281e-05,  1.14966948e-04, ...,\n",
       "        -2.14211075e-04,  1.72753964e-04,  1.00513978e-04]])"
      ]
     },
     "execution_count": 33,
     "metadata": {},
     "output_type": "execute_result"
    }
   ],
   "source": [
    "ch"
   ]
  },
  {
   "cell_type": "code",
   "execution_count": 64,
   "metadata": {},
   "outputs": [],
   "source": [
    "ch = dataPrep('grid1101-1400.mat')\n",
    "ch = np.concatenate((ch[:, :options['num_ant']],\n",
    "                     ch[:, int(ch.shape[1] / 2):int(ch.shape[1] / 2) + options['num_ant']]), axis=1)"
   ]
  },
  {
   "cell_type": "code",
   "execution_count": 65,
   "metadata": {},
   "outputs": [
    {
     "data": {
      "text/plain": [
       "(15000, 64)"
      ]
     },
     "execution_count": 65,
     "metadata": {},
     "output_type": "execute_result"
    }
   ],
   "source": [
    "ch.shape"
   ]
  },
  {
   "cell_type": "code",
   "execution_count": 41,
   "metadata": {},
   "outputs": [
    {
     "data": {
      "text/plain": [
       "array([[ 0.48626907, -0.55000621,  0.4941392 , ...,  0.16472712,\n",
       "        -0.37537349,  0.51130232],\n",
       "       [-0.28977588, -0.18938227,  0.61943828, ...,  0.02456328,\n",
       "        -0.38436164,  0.64313971],\n",
       "       [-0.46617064,  0.16765504,  0.18238731, ..., -0.20526134,\n",
       "        -0.2679095 ,  0.67742182],\n",
       "       ...,\n",
       "       [ 0.07198347, -0.03347405, -0.00405505, ..., -0.22963831,\n",
       "         0.20035529, -0.18130765],\n",
       "       [ 0.02510182, -0.05585057,  0.07754475, ...,  0.12788274,\n",
       "        -0.10571014,  0.07215254],\n",
       "       [-0.16167796,  0.17000689, -0.18769421, ...,  0.07512732,\n",
       "        -0.10816317,  0.13988999]])"
      ]
     },
     "execution_count": 41,
     "metadata": {},
     "output_type": "execute_result"
    }
   ],
   "source": [
    "ch"
   ]
  },
  {
   "cell_type": "code",
   "execution_count": 18,
   "metadata": {},
   "outputs": [
    {
     "name": "stdout",
     "output_type": "stream",
     "text": [
      "Error loading .mat file: Please use HDF reader for matlab v7.3 files, e.g. h5py\n"
     ]
    }
   ],
   "source": [
    "import scipy.io\n",
    "\n",
    "# Define the filename\n",
    "filename = 'grid1101-1400.mat'\n",
    "\n",
    "# Load the .mat file\n",
    "try:\n",
    "    mat_contents = scipy.io.loadmat(filename)\n",
    "\n",
    "\n",
    "    # Access the data\n",
    "    resultTable = mat_contents['resultTable']\n",
    "\n",
    "    # Display the shape of the data to confirm\n",
    "    print(resultTable.shape)\n",
    "\n",
    "    # Display the data (optional)\n",
    "    print(resultTable)\n",
    "except Exception as e:\n",
    "    print(f\"Error loading .mat file: {e}\")"
   ]
  },
  {
   "cell_type": "code",
   "execution_count": 14,
   "metadata": {},
   "outputs": [
    {
     "name": "stdout",
     "output_type": "stream",
     "text": [
      "(32, 20100)\n",
      "[[ 9.27075016e-05-1.01610472e-04j  5.50765144e-05+4.87873258e-05j\n",
      "  -1.69127088e-04-4.83483454e-05j ...  8.96719066e-05-5.66932649e-05j\n",
      "   1.95835855e-05+6.59787256e-05j -1.06465515e-04-6.44961801e-06j]\n",
      " [-2.36417414e-04+2.59507378e-05j  1.42950157e-04-1.78974369e-06j\n",
      "   2.67347968e-05+3.68424080e-05j ... -1.46702354e-04+7.70241240e-06j\n",
      "   1.09768967e-04-7.35505018e-05j -1.56867281e-05+8.17102264e-05j]\n",
      " [ 1.26670668e-04+7.89261103e-05j -1.83335374e-04-9.02015163e-05j\n",
      "   1.20804885e-04+6.32528099e-05j ...  5.52168967e-05+5.58227366e-05j\n",
      "  -1.25143531e-04+1.30613971e-05j  1.14966948e-04-8.88937648e-05j]\n",
      " ...\n",
      " [ 4.43387689e-05-2.38747147e-04j -8.11022182e-05+1.78902599e-04j\n",
      "   3.14712925e-05-1.96220644e-05j ...  1.27357853e-04-1.27892126e-04j\n",
      "  -1.23319856e-04+1.99962145e-04j  7.25255086e-05-2.14211075e-04j]\n",
      " [-7.01897588e-05+6.56595148e-05j  1.34904025e-04-1.47984829e-04j\n",
      "  -1.42066943e-04+1.04820334e-04j ...  9.00443847e-05-8.99914266e-06j\n",
      "  -3.42777603e-05-7.77191963e-05j  4.33730784e-05+1.72753964e-04j]\n",
      " [-3.90522546e-05+1.52642548e-04j -2.78381394e-05-1.10644251e-05j\n",
      "   1.27698455e-04-7.51539628e-05j ... -1.51886416e-04+1.83723183e-04j\n",
      "   9.41900362e-05-1.75521054e-04j -6.13293741e-05+1.00513978e-04j]]\n"
     ]
    }
   ],
   "source": [
    "import scipy.io\n",
    "\n",
    "# Define the filename\n",
    "filename = 'grid201-300.mat'\n",
    "\n",
    "# Load the .mat file\n",
    "try:\n",
    "    mat_contents = scipy.io.loadmat(filename)\n",
    "\n",
    "\n",
    "    # Access the data\n",
    "    resultTable = mat_contents['resultTable']\n",
    "\n",
    "    # Display the shape of the data to confirm\n",
    "    print(resultTable.shape)\n",
    "\n",
    "    # Display the data (optional)\n",
    "    print(resultTable)\n",
    "except Exception as e:\n",
    "    print(f\"Error loading .mat file: {e}\")"
   ]
  }
 ],
 "metadata": {
  "kernelspec": {
   "display_name": "Python 3",
   "language": "python",
   "name": "python3"
  },
  "language_info": {
   "codemirror_mode": {
    "name": "ipython",
    "version": 3
   },
   "file_extension": ".py",
   "mimetype": "text/x-python",
   "name": "python",
   "nbconvert_exporter": "python",
   "pygments_lexer": "ipython3",
   "version": "3.11.9"
  }
 },
 "nbformat": 4,
 "nbformat_minor": 2
}
